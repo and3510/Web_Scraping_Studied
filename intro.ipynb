{
 "cells": [
  {
   "cell_type": "markdown",
   "metadata": {},
   "source": [
    "O Codigo abaixo mostra o uso do raspagem de dados em um canal de noticia"
   ]
  },
  {
   "cell_type": "code",
   "execution_count": 3,
   "metadata": {},
   "outputs": [
    {
     "name": "stdout",
     "output_type": "stream",
     "text": [
      "                                              Título  \\\n",
      "0  Endrick decide no fim, e Brasil vence México e...   \n",
      "1  VÍDEO mostra momento do resgate de 4 reféns is...   \n",
      "2      Aposta única leva R$ 114 milhões na Mega-Sena   \n",
      "3  +Milionária acumula, e prêmio sobe para R$ 222...   \n",
      "4  R$ 8 milhões disponíveis: saiba se você tem di...   \n",
      "5  Grêmio empata e vai pegar o Fluminense nas oit...   \n",
      "6  Anitta explica crítica a ricaços: 'Ninguém pre...   \n",
      "7  Paralamas faz dobradinha com Samuel Rosa no Jo...   \n",
      "\n",
      "                                           Subtítulo  \\\n",
      "0                                                      \n",
      "1                                                      \n",
      "2                                                      \n",
      "3                                                      \n",
      "4                                                      \n",
      "5  Tricolor sai na frente com Cristaldo, mas leva...   \n",
      "6                                                      \n",
      "7                                                      \n",
      "\n",
      "                                                Link  \n",
      "0  https://ge.globo.com/futebol/selecao-brasileir...  \n",
      "1  https://g1.globo.com/jornal-nacional/noticia/2...  \n",
      "2  https://g1.globo.com/loterias/noticia/2024/06/...  \n",
      "3  https://g1.globo.com/loterias/noticia/2024/06/...  \n",
      "4  https://g1.globo.com/economia/noticia/2024/06/...  \n",
      "5  https://ge.globo.com/rs/futebol/libertadores/j...  \n",
      "6  https://g1.globo.com/pop-arte/noticia/2024/06/...  \n",
      "7  https://g1.globo.com/sp/ribeirao-preto-franca/...  \n"
     ]
    }
   ],
   "source": [
    "import requests\n",
    "from bs4 import BeautifulSoup \n",
    "import pandas as pd\n",
    "\n",
    "response = requests.get(\"https://g1.globo.com/\")\n",
    "\n",
    "lista_noticias = []\n",
    "\n",
    "content = response.content\n",
    "\n",
    "site = BeautifulSoup(content, 'html.parser')\n",
    "noticias = site.findAll('div', attrs={'class': 'feed-post-body'})\n",
    "\n",
    "for noticia in noticias:\n",
    "\n",
    "    titulo = noticia.find('a', attrs={'class': 'feed-post-link'})\n",
    "\n",
    "    subtitulo = noticia.find('div', attrs={'class': 'feed-post-body-resumo'})\n",
    "\n",
    "    if (subtitulo):\n",
    "        lista_noticias.append([titulo.text, subtitulo.text, titulo['href']])\n",
    "    else:\n",
    "        lista_noticias.append([titulo.text, '', titulo['href']])\n",
    "\n",
    "news = pd.DataFrame(lista_noticias, columns=['Título', 'Subtítulo', 'Link'])\n",
    "\n",
    "news.to_csv('./table/noticias.xlsx', index=False)\n",
    "\n",
    "print(news)\n"
   ]
  }
 ],
 "metadata": {
  "kernelspec": {
   "display_name": "Python 3",
   "language": "python",
   "name": "python3"
  },
  "language_info": {
   "codemirror_mode": {
    "name": "ipython",
    "version": 3
   },
   "file_extension": ".py",
   "mimetype": "text/x-python",
   "name": "python",
   "nbconvert_exporter": "python",
   "pygments_lexer": "ipython3",
   "version": "3.12.3"
  }
 },
 "nbformat": 4,
 "nbformat_minor": 2
}
